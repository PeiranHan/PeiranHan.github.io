{
 "cells": [
  {
   "attachments": {},
   "cell_type": "markdown",
   "metadata": {},
   "source": [
    "###  Lower Bounds for Hybrid flow shop scheduling problem\n",
    "\n",
    "Assumption:\n",
    "- Release time of each job = 0\n",
    "- No due date \n",
    "- In each stage, the amount of processing machine is the same, euqal to 2\n",
    "\n"
   ]
  },
  {
   "cell_type": "code",
   "execution_count": 7,
   "metadata": {},
   "outputs": [],
   "source": [
    "# we use the data from the reference[1]\n",
    "job_data = [\n",
    "    [3, 5, 9],\n",
    "    [7, 1, 4],\n",
    "    [2, 7, 4],\n",
    "    [8, 2, 2],\n",
    "    [6, 3, 7]\n",
    "]\n"
   ]
  },
  {
   "attachments": {},
   "cell_type": "markdown",
   "metadata": {},
   "source": [
    "#### 1. Makespan-Based Lower bound\n",
    "The first lower bound is quite simple, which is based on the critical path theory.\n",
    "The entire set of jobs can finish no sooner than the total processing time for the longest duration job. Thus, we have the following as a makespan lower bound:"
   ]
  },
  {
   "cell_type": "code",
   "execution_count": 8,
   "metadata": {},
   "outputs": [],
   "source": [
    "total_processing_times = [sum(jobs) for jobs in job_data]\n",
    "\n",
    "makespan_lowerbound = max(total_processing_times)"
   ]
  },
  {
   "attachments": {},
   "cell_type": "markdown",
   "metadata": {},
   "source": [
    "#### 2. Stage-Based Lower bound\n",
    "The second lower bound is the stage-based lower bound, it is a concept to derive lower bound from each stage separately with the consideration of the bounds of parallel machines.\n"
   ]
  },
  {
   "cell_type": "code",
   "execution_count": 24,
   "metadata": {},
   "outputs": [
    {
     "name": "stdout",
     "output_type": "stream",
     "text": [
      "Stage 1 lower bound: 18\n",
      "Stage 2 lower bound: 17\n",
      "Stage 3 lower bound: 21\n",
      "Makespan lower bound: 17\n"
     ]
    }
   ],
   "source": [
    "import math\n",
    "\n",
    "\n",
    "# we define a function of equation(4) in ref[1]\n",
    "def stage_lb(list1, list2, list3, k):\n",
    "    combined_sums = [x + y for x, y in zip(list2, list3)]\n",
    "\n",
    "    min_value = min(combined_sums)\n",
    "    combined_sums.remove(min_value)  # remove the minimum one\n",
    "    second_min_value = min(combined_sums)  \n",
    "\n",
    "    iso_sum = sum(list1)\n",
    "    return 1/k*(iso_sum + min_value + second_min_value)\n",
    "\n",
    "# Transfer the data\n",
    "list1 = [item[0] for item in job_data]\n",
    "list2 = [item[1] for item in job_data]\n",
    "list3 = [item[2] for item in job_data]\n",
    "\n",
    "k=2  # In each stage, we have 2 parallel processing machine.\n",
    "\n",
    "# For each stage, we have：\n",
    "stage_based_lowerbound1 = math.ceil(stage_lb(list1, list2, list3,k))\n",
    "stage_based_lowerbound2 = math.ceil(stage_lb(list2, list1, list3,k))\n",
    "stage_based_lowerbound3 = math.ceil(stage_lb(list3, list2, list1,k))\n",
    "\n",
    "print(\"Stage 1 lower bound:\", stage_based_lowerbound1)\n",
    "print(\"Stage 2 lower bound:\", stage_based_lowerbound2)\n",
    "print(\"Stage 3 lower bound:\", stage_based_lowerbound3)\n",
    "print(\"Makespan lower bound:\", makespan_lowerbound)"
   ]
  },
  {
   "attachments": {},
   "cell_type": "markdown",
   "metadata": {},
   "source": [
    "Makespan = 21 is the optimal value of the problem, which has been proved in Ref <sup>[2]<sup>"
   ]
  },
  {
   "attachments": {},
   "cell_type": "markdown",
   "metadata": {},
   "source": [
    "#### Reference\n",
    "1. Santos, D., Hunsucker, J., & Deal, D. (1995). Global lower bounds for flow shops with multiple processors. *European Journal of Operational Research, 80*(1), 112-120. \n",
    "2. Brah, S.A., and Hunsucker, J.L. (1991), \"Branch and bound algorithm for the flow shop with multiple processors\", *European Journal of Operational Research 51*, 88-99. "
   ]
  }
 ],
 "metadata": {
  "kernelspec": {
   "display_name": "Python 3",
   "language": "python",
   "name": "python3"
  },
  "language_info": {
   "codemirror_mode": {
    "name": "ipython",
    "version": 3
   },
   "file_extension": ".py",
   "mimetype": "text/x-python",
   "name": "python",
   "nbconvert_exporter": "python",
   "pygments_lexer": "ipython3",
   "version": "3.9.13"
  },
  "orig_nbformat": 4
 },
 "nbformat": 4,
 "nbformat_minor": 2
}
